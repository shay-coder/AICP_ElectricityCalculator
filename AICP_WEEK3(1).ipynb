{
  "nbformat": 4,
  "nbformat_minor": 0,
  "metadata": {
    "colab": {
      "provenance": [],
      "gpuType": "T4"
    },
    "kernelspec": {
      "name": "python3",
      "display_name": "Python 3"
    },
    "language_info": {
      "name": "python"
    },
    "accelerator": "GPU"
  },
  "cells": [
    {
      "cell_type": "code",
      "execution_count": 5,
      "metadata": {
        "colab": {
          "base_uri": "https://localhost:8080/"
        },
        "id": "4aKzNCY49Yhi",
        "outputId": "d5030a02-a84d-4cc8-d519-5d7f43da997e"
      },
      "outputs": [
        {
          "output_type": "stream",
          "name": "stdout",
          "text": [
            "My Student id is:  Shanz1234\n",
            "Enter your choice \n",
            "Press 1 to display the bill of slab 1 and slab 2\n",
            "Press 2 to display the bill of slab 3.\n",
            "Press any other key to exit\n",
            "1\n",
            "\n",
            " ====================== \n",
            "Bill for slab 1 is: \n",
            "550 \t650 \t760 \t\n",
            "Bill for slab 2 is: \n",
            "1800\t2250\t2550\t\n",
            " ====================== \n",
            "Enter your choice \n",
            "Press 1 to display the bill of slab 1 and slab 2\n",
            "Press 2 to display the bill of slab 3.\n",
            "Press any other key to exit\n",
            "2\n",
            "\n",
            " ====================== \n",
            "\n",
            "Bill for slab 3 is: \n",
            "4200\t4600\t4800\t\n",
            " ====================== \n",
            "Enter your choice \n",
            "Press 1 to display the bill of slab 1 and slab 2\n",
            "Press 2 to display the bill of slab 3.\n",
            "Press any other key to exit\n",
            "q\n",
            "Thankyou!\n"
          ]
        }
      ],
      "source": [
        "stu_id = 'Shanz1234'\n",
        "print('My Student id is: ', stu_id)\n",
        "\n",
        "units = [[55,65,76],\n",
        "        [120,150,170],\n",
        "         [210,230,240]]\n",
        "\n",
        "def costSlab1():\n",
        "  unit_cost = 10\n",
        "  print('\\n ====================== \\n', end='')\n",
        "  print('Bill for slab 1 is: ')\n",
        "  for unit in units[0]:\n",
        "    bill = unit_cost*unit\n",
        "    print(bill,end=\" \\t\")\n",
        "\n",
        "def costSlab2():\n",
        "  unit_cost = 15\n",
        "  print('\\nBill for slab 2 is: ')\n",
        "  for unit in units[1]:\n",
        "    bill = unit_cost*unit\n",
        "    print(bill,end=\"\\t\")\n",
        "  print('\\n ====================== \\n',end='')\n",
        "\n",
        "def costSlab3():\n",
        "  unit_cost = 20\n",
        "  print('\\n ====================== \\n',end='')\n",
        "  print('\\nBill for slab 3 is: ')\n",
        "  for unit in units[2]:\n",
        "    bill = unit_cost*unit\n",
        "    print(bill,end=\"\\t\")\n",
        "  print('\\n ====================== \\n',end='')\n",
        "\n",
        "while(True):\n",
        "  print('Enter your choice ')\n",
        "  choice = input('Press 1 to display the bill of slab 1 and slab 2\\nPress 2 to display the bill of slab 3.\\nPress any other key to exit\\n')\n",
        "  if choice == '1':\n",
        "    costSlab1()\n",
        "    costSlab2()\n",
        "  elif choice == '2':\n",
        "    costSlab3()\n",
        "  else:\n",
        "    print('Thankyou!')\n",
        "    break\n",
        "\n",
        "\n"
      ]
    },
    {
      "cell_type": "code",
      "source": [],
      "metadata": {
        "id": "bbERT7GNADKU"
      },
      "execution_count": null,
      "outputs": []
    }
  ]
}